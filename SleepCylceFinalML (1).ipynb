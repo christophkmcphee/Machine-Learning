{
  "metadata": {
    "kernelspec": {
      "name": "python",
      "display_name": "Python (Pyodide)",
      "language": "python"
    },
    "language_info": {
      "codemirror_mode": {
        "name": "ipython",
        "version": 3
      },
      "file_extension": ".py",
      "mimetype": "text/x-python",
      "name": "python",
      "nbconvert_exporter": "python",
      "pygments_lexer": "ipython3",
      "version": "3.12.7"
    }
  },
  "nbformat_minor": 5,
  "nbformat": 4,
  "cells": [
    {
      "id": "6213ee3b-c597-47db-9902-fca918c8591c",
      "cell_type": "code",
      "source": "import os\nimport numpy as np\nimport mne\nimport matplotlib.pyplot as plt\nfrom sklearn.model_selection import train_test_split, StratifiedKFold, GridSearchCV\nfrom sklearn.preprocessing import StandardScaler\nfrom sklearn.metrics import classification_report, confusion_matrix\nfrom sklearn.ensemble import RandomForestClassifier\nfrom sklearn.utils.class_weight import compute_class_weight\nfrom imblearn.over_sampling import SMOTE\nimport seaborn as sns\nfrom scipy.signal import welch\nfrom scipy.stats import skew, kurtosis\nfrom scipy.stats import entropy\n\n# Define the directory containing the EEG and annotation files\neeg_dir = r'D:\\sleep-edf-database-expanded-1.0.0\\sleep-edf-database-expanded-1.0.0\\sleep-telemetry'\n\n# Get the list of files\nfiles = os.listdir(eeg_dir)\n\n# Load EEG and annotation files\neeg_data = None\nannotations = None\nfor file in files:\n    if file.endswith('-PSG.edf'):  # EEG file\n        eeg_data = mne.io.read_raw_edf(os.path.join(eeg_dir, file), preload=True)\n    elif file.endswith('-Hypnogram.edf'):  # Annotation file\n        annotations = mne.read_annotations(os.path.join(eeg_dir, file))\n\n# Ensure both files are found\nif eeg_data is None or annotations is None:\n    raise ValueError(\"Couldn't find both EEG and annotation files in the directory.\")\n\n# Set annotations for EEG data\neeg_data.set_annotations(annotations)\n\n# Bandpass filtering for consistency\neeg_data.filter(l_freq=0.3, h_freq=40.0)\n\n# Adjust n_components to be less than or equal to the number of EEG channels\nn_components = min(5, len(eeg_data.info['ch_names']))  # Use the number of channels as upper bound\n\n# Rename channels to match the montage\nrename_dict = {\n    'EEG Fpz-Cz': 'Fpz',  \n    'EEG Pz-Oz': 'Pz',    \n    'EOG horizontal': 'EOG',  \n    'EMG submental': 'EMG',    \n    'Marker': 'Marker',        \n}\n\n# Rename channels to match the montage\neeg_data.rename_channels(rename_dict)\n\n# Set the channel types for non-EEG channels\neeg_data.set_channel_types({\n    'EOG': 'eog',\n    'EMG': 'emg',\n    'Marker': 'stim',  \n})\n\n# Load the standard 10-20 montage\nmontage = mne.channels.make_standard_montage('standard_1020')\n\n# Set montage, allowing missing channels\neeg_data.set_montage(montage, on_missing='ignore')\n\n# Fit ICA to remove noise\neeg_picks = mne.pick_types(eeg_data.info, eeg=True, eog=False, exclude='bads')\nica = mne.preprocessing.ICA(n_components=min(2, len(eeg_picks)), random_state=42, max_iter=800)\nica.fit(eeg_data, picks=eeg_picks)\nica.exclude = [0]\neeg_data_cleaned = ica.apply(eeg_data.copy())\n\n# Extract sleep stage annotations and map them\nlabels = []\nfor annot in annotations:\n    if 'Sleep stage' in annot['description']:\n        stage = annot['description'][-1]  # Last character is the stage\n        labels.append(stage)\n\n# Mapping dictionary for sleep stages\nstage_mapping = {'1': 'Light Sleep', '2': 'Deeper Sleep', '3': 'Deep Sleep', 'R': 'REM', 'W': 'Awake'}\nlabels = [stage_mapping.get(stage, 'Unknown') for stage in labels]\n\n# Extract EEG data as NumPy array\neeg_data_array = eeg_data_cleaned.get_data(picks='eeg')\n\n# Define window size and overlap\nwindow_size = int(5 * eeg_data.info['sfreq'])  # 5 seconds in samples\noverlap = int(1 * eeg_data.info['sfreq'])  # 1 second overlap\nwindows = [eeg_data_array[:, i:i + window_size] for i in range(0, eeg_data_array.shape[1] - window_size, overlap)]\nwindows = np.array([win for win in windows if win.shape[1] == window_size])\n\n# Ensure that the number of windows matches the number of labels\nnum_windows = len(windows)\nnum_labels = len(labels)\n\n# Adjust number of windows to match number of labels\nif num_windows != num_labels:\n    min_length = min(num_windows, num_labels)\n    windows = windows[:min_length]\n    labels = labels[:min_length]\n\n# Feature extraction function\ndef extract_features(window):\n    # Compute Power Spectral Density (PSD) using Welch's method\n    freqs, psd = welch(window, fs=eeg_data.info['sfreq'], nperseg=256)\n    \n    # Frequency domain features - Power in specific frequency bands\n    delta_band = np.sum(psd[:, (freqs >= 0.3) & (freqs < 2)], axis=1)  # Low Delta (0.5-2 Hz)\n    high_delta_band = np.sum(psd[:, (freqs >= 2) & (freqs < 4)], axis=1)  # High Delta (2-4 Hz)\n    theta_band = np.sum(psd[:, (freqs >= 4) & (freqs < 8)], axis=1)  # Theta (4-8 Hz)\n    alpha_band = np.sum(psd[:, (freqs >= 8) & (freqs < 12)], axis=1)  # Alpha (8-12 Hz)\n    beta_band = np.sum(psd[:, (freqs >= 12) & (freqs < 30)], axis=1)  # Beta (12-30 Hz)\n\n    \n    # Ratio features between bands\n    delta_theta_ratio = delta_band / (theta_band + 1e-6)\n    delta_total_ratio = (delta_band + high_delta_band) / (np.sum(psd, axis=1) + 1e-6)\n    \n    # Statistical features in the time domain\n    mean_amp = np.mean(np.abs(window), axis=1)  # Mean absolute amplitude\n    std_amp = np.std(window, axis=1)  # Standard deviation of amplitude\n    skew_amp = np.array([skew(win) for win in window.T])  # Skewness of amplitude\n    kurt_amp = np.array([kurtosis(win) for win in window.T])  # Kurtosis of amplitude\n    \n    # Combine all features\n    features = np.concatenate([delta_band, high_delta_band, theta_band, alpha_band, beta_band, \n                                delta_theta_ratio, delta_total_ratio, mean_amp, std_amp, skew_amp, kurt_amp])\n    return features\n   \n# Define the feature matrix and labels\nX = np.array([extract_features(win) for win in windows])  # Feature matrix\ny = np.array(labels)  # Corresponding labels\n\n# Remove unknown samples\nvalid_data = [(x, y) for x, y in zip(X, y) if y != 'Unknown']\nX_valid, y_valid = zip(*valid_data)\n\n# Convert back to NumPy arrays\nX_valid = np.array(X_valid)\ny_valid = np.array(y_valid)\n\n# Handle class imbalance using SMOTE\nsmote = SMOTE(sampling_strategy='auto', random_state=42, k_neighbors=3)\nfeatures_resampled, labels_resampled = smote.fit_resample(X_valid, y_valid)\n\n# Split the data into training and testing sets\nX_train, X_test, y_train, y_test = train_test_split(features_resampled, labels_resampled, test_size=0.2, stratify=labels_resampled)\n\n# Scale the features\nscaler = StandardScaler()\nX_train_scaled = scaler.fit_transform(X_train)\nX_test_scaled = scaler.transform(X_test)\n\n# Model Tuning with GridSearchCV\nparam_grid = {\n    'n_estimators': [200, 300, 400],\n    'max_depth': [10, 20, 30],\n    'min_samples_split': [2, 5, 10],\n    'min_samples_leaf': [1, 2, 5],\n    'max_features': ['sqrt', 'log2'],\n}\n\n# Initialize Random Forest classifier\nrf_classifier = RandomForestClassifier(random_state=42, class_weight='balanced')\n\n# Use Stratified K-Fold Cross-Validation with GridSearchCV\ncv = StratifiedKFold(n_splits=5, shuffle=True, random_state=42)\ngrid_search = GridSearchCV(rf_classifier, param_grid, cv=cv, scoring='accuracy')\ngrid_search.fit(X_train_scaled, y_train)\n\n# Perform Grid Search\ngrid_search = GridSearchCV(rf_classifier, param_grid, cv=5, scoring='accuracy')\ngrid_search.fit(X_train_scaled, y_train)\n\nprint(f\"Best parameters: {grid_search.best_params_}\")\nbest_rf_model = grid_search.best_estimator_\n\n# Evaluate the best model\ny_pred_rf = best_rf_model.predict(X_test_scaled)\nprint(\"Random Forest Classification Report:\\n\", classification_report(y_test, y_pred_rf))\nprint(\"Random Forest Confusion Matrix:\\n\", confusion_matrix(y_test, y_pred_rf))\n\n# Plot confusion matrix\ndef plot_confusion_matrix(cm, title):\n    plt.figure(figsize=(8, 6))\n    sns.heatmap(cm, annot=True, fmt='d', cmap='Blues', xticklabels=stage_mapping.values(), yticklabels=stage_mapping.values())\n    plt.xlabel('Predicted Label')\n    plt.ylabel('True Label')\n    plt.title(title)\n    plt.show()\n\nplot_confusion_matrix(confusion_matrix(y_test, y_pred_rf), 'Random Forest Confusion Matrix')",
      "metadata": {},
      "outputs": [
        {
          "name": "stdout",
          "output_type": "stream",
          "text": [
            "Extracting EDF parameters from D:\\sleep-edf-database-expanded-1.0.0\\sleep-edf-database-expanded-1.0.0\\sleep-telemetry\\ST7011J0-PSG.edf...\n",
            "EDF file detected\n",
            "Setting channel info structure...\n",
            "Creating raw.info structure...\n",
            "Reading 0 ... 3589999  =      0.000 ... 35899.990 secs...\n"
          ]
        },
        {
          "name": "stderr",
          "output_type": "stream",
          "text": [
            "C:\\Users\\amaur\\AppData\\Local\\Temp\\ipykernel_20924\\4006877734.py:27: RuntimeWarning: Channels contain different highpass filters. Highest filter setting will be stored.\n",
            "  eeg_data = mne.io.read_raw_edf(os.path.join(eeg_dir, file), preload=True)\n",
            "C:\\Users\\amaur\\AppData\\Local\\Temp\\ipykernel_20924\\4006877734.py:27: RuntimeWarning: Channels contain different lowpass filters. Lowest filter setting will be stored.\n",
            "  eeg_data = mne.io.read_raw_edf(os.path.join(eeg_dir, file), preload=True)\n"
          ]
        },
        {
          "name": "stdout",
          "output_type": "stream",
          "text": [
            "Extracting EDF parameters from D:\\sleep-edf-database-expanded-1.0.0\\sleep-edf-database-expanded-1.0.0\\sleep-telemetry\\ST7012J0-PSG.edf...\n",
            "EDF file detected\n",
            "Setting channel info structure...\n",
            "Creating raw.info structure...\n",
            "Reading 0 ... 3131999  =      0.000 ... 31319.990 secs...\n"
          ]
        },
        {
          "name": "stderr",
          "output_type": "stream",
          "text": [
            "C:\\Users\\amaur\\AppData\\Local\\Temp\\ipykernel_20924\\4006877734.py:27: RuntimeWarning: Channels contain different highpass filters. Highest filter setting will be stored.\n",
            "  eeg_data = mne.io.read_raw_edf(os.path.join(eeg_dir, file), preload=True)\n",
            "C:\\Users\\amaur\\AppData\\Local\\Temp\\ipykernel_20924\\4006877734.py:27: RuntimeWarning: Channels contain different lowpass filters. Lowest filter setting will be stored.\n",
            "  eeg_data = mne.io.read_raw_edf(os.path.join(eeg_dir, file), preload=True)\n"
          ]
        },
        {
          "name": "stdout",
          "output_type": "stream",
          "text": [
            "Extracting EDF parameters from D:\\sleep-edf-database-expanded-1.0.0\\sleep-edf-database-expanded-1.0.0\\sleep-telemetry\\ST7021J0-PSG.edf...\n",
            "EDF file detected\n",
            "Setting channel info structure...\n",
            "Creating raw.info structure...\n",
            "Reading 0 ... 3059999  =      0.000 ... 30599.990 secs...\n"
          ]
        },
        {
          "name": "stderr",
          "output_type": "stream",
          "text": [
            "C:\\Users\\amaur\\AppData\\Local\\Temp\\ipykernel_20924\\4006877734.py:27: RuntimeWarning: Channels contain different highpass filters. Highest filter setting will be stored.\n",
            "  eeg_data = mne.io.read_raw_edf(os.path.join(eeg_dir, file), preload=True)\n",
            "C:\\Users\\amaur\\AppData\\Local\\Temp\\ipykernel_20924\\4006877734.py:27: RuntimeWarning: Channels contain different lowpass filters. Lowest filter setting will be stored.\n",
            "  eeg_data = mne.io.read_raw_edf(os.path.join(eeg_dir, file), preload=True)\n"
          ]
        },
        {
          "name": "stdout",
          "output_type": "stream",
          "text": [
            "Extracting EDF parameters from D:\\sleep-edf-database-expanded-1.0.0\\sleep-edf-database-expanded-1.0.0\\sleep-telemetry\\ST7022J0-PSG.edf...\n",
            "EDF file detected\n",
            "Setting channel info structure...\n",
            "Creating raw.info structure...\n",
            "Reading 0 ... 3075999  =      0.000 ... 30759.990 secs...\n"
          ]
        },
        {
          "name": "stderr",
          "output_type": "stream",
          "text": [
            "C:\\Users\\amaur\\AppData\\Local\\Temp\\ipykernel_20924\\4006877734.py:27: RuntimeWarning: Channels contain different highpass filters. Highest filter setting will be stored.\n",
            "  eeg_data = mne.io.read_raw_edf(os.path.join(eeg_dir, file), preload=True)\n",
            "C:\\Users\\amaur\\AppData\\Local\\Temp\\ipykernel_20924\\4006877734.py:27: RuntimeWarning: Channels contain different lowpass filters. Lowest filter setting will be stored.\n",
            "  eeg_data = mne.io.read_raw_edf(os.path.join(eeg_dir, file), preload=True)\n"
          ]
        },
        {
          "name": "stdout",
          "output_type": "stream",
          "text": [
            "Extracting EDF parameters from D:\\sleep-edf-database-expanded-1.0.0\\sleep-edf-database-expanded-1.0.0\\sleep-telemetry\\ST7041J0-PSG.edf...\n",
            "EDF file detected\n",
            "Setting channel info structure...\n",
            "Creating raw.info structure...\n",
            "Reading 0 ... 3115999  =      0.000 ... 31159.990 secs...\n"
          ]
        },
        {
          "name": "stderr",
          "output_type": "stream",
          "text": [
            "C:\\Users\\amaur\\AppData\\Local\\Temp\\ipykernel_20924\\4006877734.py:27: RuntimeWarning: Channels contain different highpass filters. Highest filter setting will be stored.\n",
            "  eeg_data = mne.io.read_raw_edf(os.path.join(eeg_dir, file), preload=True)\n",
            "C:\\Users\\amaur\\AppData\\Local\\Temp\\ipykernel_20924\\4006877734.py:27: RuntimeWarning: Channels contain different lowpass filters. Lowest filter setting will be stored.\n",
            "  eeg_data = mne.io.read_raw_edf(os.path.join(eeg_dir, file), preload=True)\n"
          ]
        },
        {
          "name": "stdout",
          "output_type": "stream",
          "text": [
            "Extracting EDF parameters from D:\\sleep-edf-database-expanded-1.0.0\\sleep-edf-database-expanded-1.0.0\\sleep-telemetry\\ST7042J0-PSG.edf...\n",
            "EDF file detected\n",
            "Setting channel info structure...\n",
            "Creating raw.info structure...\n",
            "Reading 0 ... 3470999  =      0.000 ... 34709.990 secs...\n"
          ]
        },
        {
          "name": "stderr",
          "output_type": "stream",
          "text": [
            "C:\\Users\\amaur\\AppData\\Local\\Temp\\ipykernel_20924\\4006877734.py:27: RuntimeWarning: Channels contain different highpass filters. Highest filter setting will be stored.\n",
            "  eeg_data = mne.io.read_raw_edf(os.path.join(eeg_dir, file), preload=True)\n",
            "C:\\Users\\amaur\\AppData\\Local\\Temp\\ipykernel_20924\\4006877734.py:27: RuntimeWarning: Channels contain different lowpass filters. Lowest filter setting will be stored.\n",
            "  eeg_data = mne.io.read_raw_edf(os.path.join(eeg_dir, file), preload=True)\n"
          ]
        },
        {
          "name": "stdout",
          "output_type": "stream",
          "text": [
            "Extracting EDF parameters from D:\\sleep-edf-database-expanded-1.0.0\\sleep-edf-database-expanded-1.0.0\\sleep-telemetry\\ST7051J0-PSG.edf...\n",
            "EDF file detected\n",
            "Setting channel info structure...\n",
            "Creating raw.info structure...\n",
            "Reading 0 ... 3219999  =      0.000 ... 32199.990 secs...\n"
          ]
        },
        {
          "name": "stderr",
          "output_type": "stream",
          "text": [
            "C:\\Users\\amaur\\AppData\\Local\\Temp\\ipykernel_20924\\4006877734.py:27: RuntimeWarning: Channels contain different highpass filters. Highest filter setting will be stored.\n",
            "  eeg_data = mne.io.read_raw_edf(os.path.join(eeg_dir, file), preload=True)\n",
            "C:\\Users\\amaur\\AppData\\Local\\Temp\\ipykernel_20924\\4006877734.py:27: RuntimeWarning: Channels contain different lowpass filters. Lowest filter setting will be stored.\n",
            "  eeg_data = mne.io.read_raw_edf(os.path.join(eeg_dir, file), preload=True)\n"
          ]
        },
        {
          "name": "stdout",
          "output_type": "stream",
          "text": [
            "Extracting EDF parameters from D:\\sleep-edf-database-expanded-1.0.0\\sleep-edf-database-expanded-1.0.0\\sleep-telemetry\\ST7052J0-PSG.edf...\n",
            "EDF file detected\n",
            "Setting channel info structure...\n",
            "Creating raw.info structure...\n",
            "Reading 0 ... 3282999  =      0.000 ... 32829.990 secs...\n"
          ]
        },
        {
          "name": "stderr",
          "output_type": "stream",
          "text": [
            "C:\\Users\\amaur\\AppData\\Local\\Temp\\ipykernel_20924\\4006877734.py:27: RuntimeWarning: Channels contain different highpass filters. Highest filter setting will be stored.\n",
            "  eeg_data = mne.io.read_raw_edf(os.path.join(eeg_dir, file), preload=True)\n",
            "C:\\Users\\amaur\\AppData\\Local\\Temp\\ipykernel_20924\\4006877734.py:27: RuntimeWarning: Channels contain different lowpass filters. Lowest filter setting will be stored.\n",
            "  eeg_data = mne.io.read_raw_edf(os.path.join(eeg_dir, file), preload=True)\n"
          ]
        },
        {
          "name": "stdout",
          "output_type": "stream",
          "text": [
            "Extracting EDF parameters from D:\\sleep-edf-database-expanded-1.0.0\\sleep-edf-database-expanded-1.0.0\\sleep-telemetry\\ST7061J0-PSG.edf...\n",
            "EDF file detected\n",
            "Setting channel info structure...\n",
            "Creating raw.info structure...\n",
            "Reading 0 ... 3256999  =      0.000 ... 32569.990 secs...\n"
          ]
        },
        {
          "name": "stderr",
          "output_type": "stream",
          "text": [
            "C:\\Users\\amaur\\AppData\\Local\\Temp\\ipykernel_20924\\4006877734.py:27: RuntimeWarning: Channels contain different highpass filters. Highest filter setting will be stored.\n",
            "  eeg_data = mne.io.read_raw_edf(os.path.join(eeg_dir, file), preload=True)\n",
            "C:\\Users\\amaur\\AppData\\Local\\Temp\\ipykernel_20924\\4006877734.py:27: RuntimeWarning: Channels contain different lowpass filters. Lowest filter setting will be stored.\n",
            "  eeg_data = mne.io.read_raw_edf(os.path.join(eeg_dir, file), preload=True)\n"
          ]
        },
        {
          "name": "stdout",
          "output_type": "stream",
          "text": [
            "Extracting EDF parameters from D:\\sleep-edf-database-expanded-1.0.0\\sleep-edf-database-expanded-1.0.0\\sleep-telemetry\\ST7062J0-PSG.edf...\n",
            "EDF file detected\n",
            "Setting channel info structure...\n",
            "Creating raw.info structure...\n",
            "Reading 0 ... 3277999  =      0.000 ... 32779.990 secs...\n"
          ]
        },
        {
          "name": "stderr",
          "output_type": "stream",
          "text": [
            "C:\\Users\\amaur\\AppData\\Local\\Temp\\ipykernel_20924\\4006877734.py:27: RuntimeWarning: Channels contain different highpass filters. Highest filter setting will be stored.\n",
            "  eeg_data = mne.io.read_raw_edf(os.path.join(eeg_dir, file), preload=True)\n",
            "C:\\Users\\amaur\\AppData\\Local\\Temp\\ipykernel_20924\\4006877734.py:27: RuntimeWarning: Channels contain different lowpass filters. Lowest filter setting will be stored.\n",
            "  eeg_data = mne.io.read_raw_edf(os.path.join(eeg_dir, file), preload=True)\n"
          ]
        },
        {
          "name": "stdout",
          "output_type": "stream",
          "text": [
            "Extracting EDF parameters from D:\\sleep-edf-database-expanded-1.0.0\\sleep-edf-database-expanded-1.0.0\\sleep-telemetry\\ST7071J0-PSG.edf...\n",
            "EDF file detected\n",
            "Setting channel info structure...\n",
            "Creating raw.info structure...\n",
            "Reading 0 ... 2745999  =      0.000 ... 27459.990 secs...\n"
          ]
        },
        {
          "name": "stderr",
          "output_type": "stream",
          "text": [
            "C:\\Users\\amaur\\AppData\\Local\\Temp\\ipykernel_20924\\4006877734.py:27: RuntimeWarning: Channels contain different highpass filters. Highest filter setting will be stored.\n",
            "  eeg_data = mne.io.read_raw_edf(os.path.join(eeg_dir, file), preload=True)\n",
            "C:\\Users\\amaur\\AppData\\Local\\Temp\\ipykernel_20924\\4006877734.py:27: RuntimeWarning: Channels contain different lowpass filters. Lowest filter setting will be stored.\n",
            "  eeg_data = mne.io.read_raw_edf(os.path.join(eeg_dir, file), preload=True)\n"
          ]
        },
        {
          "name": "stdout",
          "output_type": "stream",
          "text": [
            "Extracting EDF parameters from D:\\sleep-edf-database-expanded-1.0.0\\sleep-edf-database-expanded-1.0.0\\sleep-telemetry\\ST7072J0-PSG.edf...\n",
            "EDF file detected\n",
            "Setting channel info structure...\n",
            "Creating raw.info structure...\n",
            "Reading 0 ... 2745999  =      0.000 ... 27459.990 secs...\n"
          ]
        },
        {
          "name": "stderr",
          "output_type": "stream",
          "text": [
            "C:\\Users\\amaur\\AppData\\Local\\Temp\\ipykernel_20924\\4006877734.py:27: RuntimeWarning: Channels contain different highpass filters. Highest filter setting will be stored.\n",
            "  eeg_data = mne.io.read_raw_edf(os.path.join(eeg_dir, file), preload=True)\n",
            "C:\\Users\\amaur\\AppData\\Local\\Temp\\ipykernel_20924\\4006877734.py:27: RuntimeWarning: Channels contain different lowpass filters. Lowest filter setting will be stored.\n",
            "  eeg_data = mne.io.read_raw_edf(os.path.join(eeg_dir, file), preload=True)\n"
          ]
        },
        {
          "name": "stdout",
          "output_type": "stream",
          "text": [
            "Extracting EDF parameters from D:\\sleep-edf-database-expanded-1.0.0\\sleep-edf-database-expanded-1.0.0\\sleep-telemetry\\ST7081J0-PSG.edf...\n",
            "EDF file detected\n",
            "Setting channel info structure...\n",
            "Creating raw.info structure...\n",
            "Reading 0 ... 2899999  =      0.000 ... 28999.990 secs...\n"
          ]
        },
        {
          "name": "stderr",
          "output_type": "stream",
          "text": [
            "C:\\Users\\amaur\\AppData\\Local\\Temp\\ipykernel_20924\\4006877734.py:27: RuntimeWarning: Channels contain different highpass filters. Highest filter setting will be stored.\n",
            "  eeg_data = mne.io.read_raw_edf(os.path.join(eeg_dir, file), preload=True)\n",
            "C:\\Users\\amaur\\AppData\\Local\\Temp\\ipykernel_20924\\4006877734.py:27: RuntimeWarning: Channels contain different lowpass filters. Lowest filter setting will be stored.\n",
            "  eeg_data = mne.io.read_raw_edf(os.path.join(eeg_dir, file), preload=True)\n"
          ]
        },
        {
          "name": "stdout",
          "output_type": "stream",
          "text": [
            "Extracting EDF parameters from D:\\sleep-edf-database-expanded-1.0.0\\sleep-edf-database-expanded-1.0.0\\sleep-telemetry\\ST7082J0-PSG.edf...\n",
            "EDF file detected\n",
            "Setting channel info structure...\n",
            "Creating raw.info structure...\n",
            "Reading 0 ... 2852999  =      0.000 ... 28529.990 secs...\n"
          ]
        },
        {
          "name": "stderr",
          "output_type": "stream",
          "text": [
            "C:\\Users\\amaur\\AppData\\Local\\Temp\\ipykernel_20924\\4006877734.py:27: RuntimeWarning: Channels contain different highpass filters. Highest filter setting will be stored.\n",
            "  eeg_data = mne.io.read_raw_edf(os.path.join(eeg_dir, file), preload=True)\n",
            "C:\\Users\\amaur\\AppData\\Local\\Temp\\ipykernel_20924\\4006877734.py:27: RuntimeWarning: Channels contain different lowpass filters. Lowest filter setting will be stored.\n",
            "  eeg_data = mne.io.read_raw_edf(os.path.join(eeg_dir, file), preload=True)\n"
          ]
        },
        {
          "name": "stdout",
          "output_type": "stream",
          "text": [
            "Extracting EDF parameters from D:\\sleep-edf-database-expanded-1.0.0\\sleep-edf-database-expanded-1.0.0\\sleep-telemetry\\ST7091J0-PSG.edf...\n",
            "EDF file detected\n",
            "Setting channel info structure...\n",
            "Creating raw.info structure...\n",
            "Reading 0 ... 2985999  =      0.000 ... 29859.990 secs...\n"
          ]
        },
        {
          "name": "stderr",
          "output_type": "stream",
          "text": [
            "C:\\Users\\amaur\\AppData\\Local\\Temp\\ipykernel_20924\\4006877734.py:27: RuntimeWarning: Channels contain different highpass filters. Highest filter setting will be stored.\n",
            "  eeg_data = mne.io.read_raw_edf(os.path.join(eeg_dir, file), preload=True)\n",
            "C:\\Users\\amaur\\AppData\\Local\\Temp\\ipykernel_20924\\4006877734.py:27: RuntimeWarning: Channels contain different lowpass filters. Lowest filter setting will be stored.\n",
            "  eeg_data = mne.io.read_raw_edf(os.path.join(eeg_dir, file), preload=True)\n"
          ]
        },
        {
          "name": "stdout",
          "output_type": "stream",
          "text": [
            "Extracting EDF parameters from D:\\sleep-edf-database-expanded-1.0.0\\sleep-edf-database-expanded-1.0.0\\sleep-telemetry\\ST7092J0-PSG.edf...\n",
            "EDF file detected\n",
            "Setting channel info structure...\n",
            "Creating raw.info structure...\n",
            "Reading 0 ... 2886999  =      0.000 ... 28869.990 secs...\n"
          ]
        },
        {
          "name": "stderr",
          "output_type": "stream",
          "text": [
            "C:\\Users\\amaur\\AppData\\Local\\Temp\\ipykernel_20924\\4006877734.py:27: RuntimeWarning: Channels contain different highpass filters. Highest filter setting will be stored.\n",
            "  eeg_data = mne.io.read_raw_edf(os.path.join(eeg_dir, file), preload=True)\n",
            "C:\\Users\\amaur\\AppData\\Local\\Temp\\ipykernel_20924\\4006877734.py:27: RuntimeWarning: Channels contain different lowpass filters. Lowest filter setting will be stored.\n",
            "  eeg_data = mne.io.read_raw_edf(os.path.join(eeg_dir, file), preload=True)\n"
          ]
        },
        {
          "name": "stdout",
          "output_type": "stream",
          "text": [
            "Extracting EDF parameters from D:\\sleep-edf-database-expanded-1.0.0\\sleep-edf-database-expanded-1.0.0\\sleep-telemetry\\ST7101J0-PSG.edf...\n",
            "EDF file detected\n",
            "Setting channel info structure...\n",
            "Creating raw.info structure...\n",
            "Reading 0 ... 3295999  =      0.000 ... 32959.990 secs...\n"
          ]
        },
        {
          "name": "stderr",
          "output_type": "stream",
          "text": [
            "C:\\Users\\amaur\\AppData\\Local\\Temp\\ipykernel_20924\\4006877734.py:27: RuntimeWarning: Channels contain different highpass filters. Highest filter setting will be stored.\n",
            "  eeg_data = mne.io.read_raw_edf(os.path.join(eeg_dir, file), preload=True)\n",
            "C:\\Users\\amaur\\AppData\\Local\\Temp\\ipykernel_20924\\4006877734.py:27: RuntimeWarning: Channels contain different lowpass filters. Lowest filter setting will be stored.\n",
            "  eeg_data = mne.io.read_raw_edf(os.path.join(eeg_dir, file), preload=True)\n"
          ]
        },
        {
          "name": "stdout",
          "output_type": "stream",
          "text": [
            "Extracting EDF parameters from D:\\sleep-edf-database-expanded-1.0.0\\sleep-edf-database-expanded-1.0.0\\sleep-telemetry\\ST7102J0-PSG.edf...\n",
            "EDF file detected\n",
            "Setting channel info structure...\n",
            "Creating raw.info structure...\n",
            "Reading 0 ... 2981999  =      0.000 ... 29819.990 secs...\n"
          ]
        },
        {
          "name": "stderr",
          "output_type": "stream",
          "text": [
            "C:\\Users\\amaur\\AppData\\Local\\Temp\\ipykernel_20924\\4006877734.py:27: RuntimeWarning: Channels contain different highpass filters. Highest filter setting will be stored.\n",
            "  eeg_data = mne.io.read_raw_edf(os.path.join(eeg_dir, file), preload=True)\n",
            "C:\\Users\\amaur\\AppData\\Local\\Temp\\ipykernel_20924\\4006877734.py:27: RuntimeWarning: Channels contain different lowpass filters. Lowest filter setting will be stored.\n",
            "  eeg_data = mne.io.read_raw_edf(os.path.join(eeg_dir, file), preload=True)\n"
          ]
        },
        {
          "name": "stdout",
          "output_type": "stream",
          "text": [
            "Extracting EDF parameters from D:\\sleep-edf-database-expanded-1.0.0\\sleep-edf-database-expanded-1.0.0\\sleep-telemetry\\ST7111J0-PSG.edf...\n",
            "EDF file detected\n",
            "Setting channel info structure...\n",
            "Creating raw.info structure...\n",
            "Reading 0 ... 3139999  =      0.000 ... 31399.990 secs...\n"
          ]
        },
        {
          "name": "stderr",
          "output_type": "stream",
          "text": [
            "C:\\Users\\amaur\\AppData\\Local\\Temp\\ipykernel_20924\\4006877734.py:27: RuntimeWarning: Channels contain different highpass filters. Highest filter setting will be stored.\n",
            "  eeg_data = mne.io.read_raw_edf(os.path.join(eeg_dir, file), preload=True)\n",
            "C:\\Users\\amaur\\AppData\\Local\\Temp\\ipykernel_20924\\4006877734.py:27: RuntimeWarning: Channels contain different lowpass filters. Lowest filter setting will be stored.\n",
            "  eeg_data = mne.io.read_raw_edf(os.path.join(eeg_dir, file), preload=True)\n"
          ]
        },
        {
          "name": "stdout",
          "output_type": "stream",
          "text": [
            "Extracting EDF parameters from D:\\sleep-edf-database-expanded-1.0.0\\sleep-edf-database-expanded-1.0.0\\sleep-telemetry\\ST7112J0-PSG.edf...\n",
            "EDF file detected\n",
            "Setting channel info structure...\n",
            "Creating raw.info structure...\n",
            "Reading 0 ... 3066999  =      0.000 ... 30669.990 secs...\n"
          ]
        },
        {
          "name": "stderr",
          "output_type": "stream",
          "text": [
            "C:\\Users\\amaur\\AppData\\Local\\Temp\\ipykernel_20924\\4006877734.py:27: RuntimeWarning: Channels contain different highpass filters. Highest filter setting will be stored.\n",
            "  eeg_data = mne.io.read_raw_edf(os.path.join(eeg_dir, file), preload=True)\n",
            "C:\\Users\\amaur\\AppData\\Local\\Temp\\ipykernel_20924\\4006877734.py:27: RuntimeWarning: Channels contain different lowpass filters. Lowest filter setting will be stored.\n",
            "  eeg_data = mne.io.read_raw_edf(os.path.join(eeg_dir, file), preload=True)\n"
          ]
        },
        {
          "name": "stdout",
          "output_type": "stream",
          "text": [
            "Extracting EDF parameters from D:\\sleep-edf-database-expanded-1.0.0\\sleep-edf-database-expanded-1.0.0\\sleep-telemetry\\ST7121J0-PSG.edf...\n",
            "EDF file detected\n",
            "Setting channel info structure...\n",
            "Creating raw.info structure...\n",
            "Reading 0 ... 3119999  =      0.000 ... 31199.990 secs...\n"
          ]
        },
        {
          "name": "stderr",
          "output_type": "stream",
          "text": [
            "C:\\Users\\amaur\\AppData\\Local\\Temp\\ipykernel_20924\\4006877734.py:27: RuntimeWarning: Channels contain different highpass filters. Highest filter setting will be stored.\n",
            "  eeg_data = mne.io.read_raw_edf(os.path.join(eeg_dir, file), preload=True)\n",
            "C:\\Users\\amaur\\AppData\\Local\\Temp\\ipykernel_20924\\4006877734.py:27: RuntimeWarning: Channels contain different lowpass filters. Lowest filter setting will be stored.\n",
            "  eeg_data = mne.io.read_raw_edf(os.path.join(eeg_dir, file), preload=True)\n"
          ]
        },
        {
          "name": "stdout",
          "output_type": "stream",
          "text": [
            "Extracting EDF parameters from D:\\sleep-edf-database-expanded-1.0.0\\sleep-edf-database-expanded-1.0.0\\sleep-telemetry\\ST7122J0-PSG.edf...\n",
            "EDF file detected\n",
            "Setting channel info structure...\n",
            "Creating raw.info structure...\n",
            "Reading 0 ... 3034999  =      0.000 ... 30349.990 secs...\n"
          ]
        },
        {
          "name": "stderr",
          "output_type": "stream",
          "text": [
            "C:\\Users\\amaur\\AppData\\Local\\Temp\\ipykernel_20924\\4006877734.py:27: RuntimeWarning: Channels contain different highpass filters. Highest filter setting will be stored.\n",
            "  eeg_data = mne.io.read_raw_edf(os.path.join(eeg_dir, file), preload=True)\n",
            "C:\\Users\\amaur\\AppData\\Local\\Temp\\ipykernel_20924\\4006877734.py:27: RuntimeWarning: Channels contain different lowpass filters. Lowest filter setting will be stored.\n",
            "  eeg_data = mne.io.read_raw_edf(os.path.join(eeg_dir, file), preload=True)\n"
          ]
        },
        {
          "name": "stdout",
          "output_type": "stream",
          "text": [
            "Extracting EDF parameters from D:\\sleep-edf-database-expanded-1.0.0\\sleep-edf-database-expanded-1.0.0\\sleep-telemetry\\ST7131J0-PSG.edf...\n",
            "EDF file detected\n",
            "Setting channel info structure...\n",
            "Creating raw.info structure...\n",
            "Reading 0 ... 2765999  =      0.000 ... 27659.990 secs...\n"
          ]
        },
        {
          "name": "stderr",
          "output_type": "stream",
          "text": [
            "C:\\Users\\amaur\\AppData\\Local\\Temp\\ipykernel_20924\\4006877734.py:27: RuntimeWarning: Channels contain different highpass filters. Highest filter setting will be stored.\n",
            "  eeg_data = mne.io.read_raw_edf(os.path.join(eeg_dir, file), preload=True)\n",
            "C:\\Users\\amaur\\AppData\\Local\\Temp\\ipykernel_20924\\4006877734.py:27: RuntimeWarning: Channels contain different lowpass filters. Lowest filter setting will be stored.\n",
            "  eeg_data = mne.io.read_raw_edf(os.path.join(eeg_dir, file), preload=True)\n"
          ]
        },
        {
          "name": "stdout",
          "output_type": "stream",
          "text": [
            "Extracting EDF parameters from D:\\sleep-edf-database-expanded-1.0.0\\sleep-edf-database-expanded-1.0.0\\sleep-telemetry\\ST7132J0-PSG.edf...\n",
            "EDF file detected\n",
            "Setting channel info structure...\n",
            "Creating raw.info structure...\n",
            "Reading 0 ... 2697999  =      0.000 ... 26979.990 secs...\n"
          ]
        },
        {
          "name": "stderr",
          "output_type": "stream",
          "text": [
            "C:\\Users\\amaur\\AppData\\Local\\Temp\\ipykernel_20924\\4006877734.py:27: RuntimeWarning: Channels contain different highpass filters. Highest filter setting will be stored.\n",
            "  eeg_data = mne.io.read_raw_edf(os.path.join(eeg_dir, file), preload=True)\n",
            "C:\\Users\\amaur\\AppData\\Local\\Temp\\ipykernel_20924\\4006877734.py:27: RuntimeWarning: Channels contain different lowpass filters. Lowest filter setting will be stored.\n",
            "  eeg_data = mne.io.read_raw_edf(os.path.join(eeg_dir, file), preload=True)\n"
          ]
        },
        {
          "name": "stdout",
          "output_type": "stream",
          "text": [
            "Extracting EDF parameters from D:\\sleep-edf-database-expanded-1.0.0\\sleep-edf-database-expanded-1.0.0\\sleep-telemetry\\ST7141J0-PSG.edf...\n",
            "EDF file detected\n",
            "Setting channel info structure...\n",
            "Creating raw.info structure...\n",
            "Reading 0 ... 2760999  =      0.000 ... 27609.990 secs...\n"
          ]
        },
        {
          "name": "stderr",
          "output_type": "stream",
          "text": [
            "C:\\Users\\amaur\\AppData\\Local\\Temp\\ipykernel_20924\\4006877734.py:27: RuntimeWarning: Channels contain different highpass filters. Highest filter setting will be stored.\n",
            "  eeg_data = mne.io.read_raw_edf(os.path.join(eeg_dir, file), preload=True)\n",
            "C:\\Users\\amaur\\AppData\\Local\\Temp\\ipykernel_20924\\4006877734.py:27: RuntimeWarning: Channels contain different lowpass filters. Lowest filter setting will be stored.\n",
            "  eeg_data = mne.io.read_raw_edf(os.path.join(eeg_dir, file), preload=True)\n"
          ]
        },
        {
          "name": "stdout",
          "output_type": "stream",
          "text": [
            "Extracting EDF parameters from D:\\sleep-edf-database-expanded-1.0.0\\sleep-edf-database-expanded-1.0.0\\sleep-telemetry\\ST7142J0-PSG.edf...\n",
            "EDF file detected\n",
            "Setting channel info structure...\n",
            "Creating raw.info structure...\n",
            "Reading 0 ... 2750999  =      0.000 ... 27509.990 secs...\n"
          ]
        },
        {
          "name": "stderr",
          "output_type": "stream",
          "text": [
            "C:\\Users\\amaur\\AppData\\Local\\Temp\\ipykernel_20924\\4006877734.py:27: RuntimeWarning: Channels contain different highpass filters. Highest filter setting will be stored.\n",
            "  eeg_data = mne.io.read_raw_edf(os.path.join(eeg_dir, file), preload=True)\n",
            "C:\\Users\\amaur\\AppData\\Local\\Temp\\ipykernel_20924\\4006877734.py:27: RuntimeWarning: Channels contain different lowpass filters. Lowest filter setting will be stored.\n",
            "  eeg_data = mne.io.read_raw_edf(os.path.join(eeg_dir, file), preload=True)\n"
          ]
        },
        {
          "name": "stdout",
          "output_type": "stream",
          "text": [
            "Extracting EDF parameters from D:\\sleep-edf-database-expanded-1.0.0\\sleep-edf-database-expanded-1.0.0\\sleep-telemetry\\ST7151J0-PSG.edf...\n",
            "EDF file detected\n",
            "Setting channel info structure...\n",
            "Creating raw.info structure...\n",
            "Reading 0 ... 3850999  =      0.000 ... 38509.990 secs...\n"
          ]
        },
        {
          "name": "stderr",
          "output_type": "stream",
          "text": [
            "C:\\Users\\amaur\\AppData\\Local\\Temp\\ipykernel_20924\\4006877734.py:27: RuntimeWarning: Channels contain different highpass filters. Highest filter setting will be stored.\n",
            "  eeg_data = mne.io.read_raw_edf(os.path.join(eeg_dir, file), preload=True)\n",
            "C:\\Users\\amaur\\AppData\\Local\\Temp\\ipykernel_20924\\4006877734.py:27: RuntimeWarning: Channels contain different lowpass filters. Lowest filter setting will be stored.\n",
            "  eeg_data = mne.io.read_raw_edf(os.path.join(eeg_dir, file), preload=True)\n"
          ]
        },
        {
          "name": "stdout",
          "output_type": "stream",
          "text": [
            "Extracting EDF parameters from D:\\sleep-edf-database-expanded-1.0.0\\sleep-edf-database-expanded-1.0.0\\sleep-telemetry\\ST7152J0-PSG.edf...\n",
            "EDF file detected\n",
            "Setting channel info structure...\n",
            "Creating raw.info structure...\n",
            "Reading 0 ... 3224999  =      0.000 ... 32249.990 secs...\n"
          ]
        },
        {
          "name": "stderr",
          "output_type": "stream",
          "text": [
            "C:\\Users\\amaur\\AppData\\Local\\Temp\\ipykernel_20924\\4006877734.py:27: RuntimeWarning: Channels contain different highpass filters. Highest filter setting will be stored.\n",
            "  eeg_data = mne.io.read_raw_edf(os.path.join(eeg_dir, file), preload=True)\n",
            "C:\\Users\\amaur\\AppData\\Local\\Temp\\ipykernel_20924\\4006877734.py:27: RuntimeWarning: Channels contain different lowpass filters. Lowest filter setting will be stored.\n",
            "  eeg_data = mne.io.read_raw_edf(os.path.join(eeg_dir, file), preload=True)\n"
          ]
        },
        {
          "name": "stdout",
          "output_type": "stream",
          "text": [
            "Extracting EDF parameters from D:\\sleep-edf-database-expanded-1.0.0\\sleep-edf-database-expanded-1.0.0\\sleep-telemetry\\ST7161J0-PSG.edf...\n",
            "EDF file detected\n",
            "Setting channel info structure...\n",
            "Creating raw.info structure...\n",
            "Reading 0 ... 3329999  =      0.000 ... 33299.990 secs...\n"
          ]
        },
        {
          "name": "stderr",
          "output_type": "stream",
          "text": [
            "C:\\Users\\amaur\\AppData\\Local\\Temp\\ipykernel_20924\\4006877734.py:27: RuntimeWarning: Channels contain different highpass filters. Highest filter setting will be stored.\n",
            "  eeg_data = mne.io.read_raw_edf(os.path.join(eeg_dir, file), preload=True)\n",
            "C:\\Users\\amaur\\AppData\\Local\\Temp\\ipykernel_20924\\4006877734.py:27: RuntimeWarning: Channels contain different lowpass filters. Lowest filter setting will be stored.\n",
            "  eeg_data = mne.io.read_raw_edf(os.path.join(eeg_dir, file), preload=True)\n"
          ]
        },
        {
          "name": "stdout",
          "output_type": "stream",
          "text": [
            "Extracting EDF parameters from D:\\sleep-edf-database-expanded-1.0.0\\sleep-edf-database-expanded-1.0.0\\sleep-telemetry\\ST7162J0-PSG.edf...\n",
            "EDF file detected\n",
            "Setting channel info structure...\n",
            "Creating raw.info structure...\n",
            "Reading 0 ... 3003999  =      0.000 ... 30039.990 secs...\n"
          ]
        },
        {
          "name": "stderr",
          "output_type": "stream",
          "text": [
            "C:\\Users\\amaur\\AppData\\Local\\Temp\\ipykernel_20924\\4006877734.py:27: RuntimeWarning: Channels contain different highpass filters. Highest filter setting will be stored.\n",
            "  eeg_data = mne.io.read_raw_edf(os.path.join(eeg_dir, file), preload=True)\n",
            "C:\\Users\\amaur\\AppData\\Local\\Temp\\ipykernel_20924\\4006877734.py:27: RuntimeWarning: Channels contain different lowpass filters. Lowest filter setting will be stored.\n",
            "  eeg_data = mne.io.read_raw_edf(os.path.join(eeg_dir, file), preload=True)\n"
          ]
        },
        {
          "name": "stdout",
          "output_type": "stream",
          "text": [
            "Extracting EDF parameters from D:\\sleep-edf-database-expanded-1.0.0\\sleep-edf-database-expanded-1.0.0\\sleep-telemetry\\ST7171J0-PSG.edf...\n",
            "EDF file detected\n",
            "Setting channel info structure...\n",
            "Creating raw.info structure...\n",
            "Reading 0 ... 2892999  =      0.000 ... 28929.990 secs...\n"
          ]
        },
        {
          "name": "stderr",
          "output_type": "stream",
          "text": [
            "C:\\Users\\amaur\\AppData\\Local\\Temp\\ipykernel_20924\\4006877734.py:27: RuntimeWarning: Channels contain different highpass filters. Highest filter setting will be stored.\n",
            "  eeg_data = mne.io.read_raw_edf(os.path.join(eeg_dir, file), preload=True)\n",
            "C:\\Users\\amaur\\AppData\\Local\\Temp\\ipykernel_20924\\4006877734.py:27: RuntimeWarning: Channels contain different lowpass filters. Lowest filter setting will be stored.\n",
            "  eeg_data = mne.io.read_raw_edf(os.path.join(eeg_dir, file), preload=True)\n"
          ]
        },
        {
          "name": "stdout",
          "output_type": "stream",
          "text": [
            "Extracting EDF parameters from D:\\sleep-edf-database-expanded-1.0.0\\sleep-edf-database-expanded-1.0.0\\sleep-telemetry\\ST7172J0-PSG.edf...\n",
            "EDF file detected\n",
            "Setting channel info structure...\n",
            "Creating raw.info structure...\n",
            "Reading 0 ... 3019999  =      0.000 ... 30199.990 secs...\n"
          ]
        },
        {
          "name": "stderr",
          "output_type": "stream",
          "text": [
            "C:\\Users\\amaur\\AppData\\Local\\Temp\\ipykernel_20924\\4006877734.py:27: RuntimeWarning: Channels contain different highpass filters. Highest filter setting will be stored.\n",
            "  eeg_data = mne.io.read_raw_edf(os.path.join(eeg_dir, file), preload=True)\n",
            "C:\\Users\\amaur\\AppData\\Local\\Temp\\ipykernel_20924\\4006877734.py:27: RuntimeWarning: Channels contain different lowpass filters. Lowest filter setting will be stored.\n",
            "  eeg_data = mne.io.read_raw_edf(os.path.join(eeg_dir, file), preload=True)\n"
          ]
        },
        {
          "name": "stdout",
          "output_type": "stream",
          "text": [
            "Extracting EDF parameters from D:\\sleep-edf-database-expanded-1.0.0\\sleep-edf-database-expanded-1.0.0\\sleep-telemetry\\ST7181J0-PSG.edf...\n",
            "EDF file detected\n",
            "Setting channel info structure...\n",
            "Creating raw.info structure...\n",
            "Reading 0 ... 3087999  =      0.000 ... 30879.990 secs...\n"
          ]
        },
        {
          "name": "stderr",
          "output_type": "stream",
          "text": [
            "C:\\Users\\amaur\\AppData\\Local\\Temp\\ipykernel_20924\\4006877734.py:27: RuntimeWarning: Channels contain different highpass filters. Highest filter setting will be stored.\n",
            "  eeg_data = mne.io.read_raw_edf(os.path.join(eeg_dir, file), preload=True)\n",
            "C:\\Users\\amaur\\AppData\\Local\\Temp\\ipykernel_20924\\4006877734.py:27: RuntimeWarning: Channels contain different lowpass filters. Lowest filter setting will be stored.\n",
            "  eeg_data = mne.io.read_raw_edf(os.path.join(eeg_dir, file), preload=True)\n"
          ]
        },
        {
          "name": "stdout",
          "output_type": "stream",
          "text": [
            "Extracting EDF parameters from D:\\sleep-edf-database-expanded-1.0.0\\sleep-edf-database-expanded-1.0.0\\sleep-telemetry\\ST7182J0-PSG.edf...\n",
            "EDF file detected\n",
            "Setting channel info structure...\n",
            "Creating raw.info structure...\n",
            "Reading 0 ... 3393999  =      0.000 ... 33939.990 secs...\n"
          ]
        },
        {
          "name": "stderr",
          "output_type": "stream",
          "text": [
            "C:\\Users\\amaur\\AppData\\Local\\Temp\\ipykernel_20924\\4006877734.py:27: RuntimeWarning: Channels contain different highpass filters. Highest filter setting will be stored.\n",
            "  eeg_data = mne.io.read_raw_edf(os.path.join(eeg_dir, file), preload=True)\n",
            "C:\\Users\\amaur\\AppData\\Local\\Temp\\ipykernel_20924\\4006877734.py:27: RuntimeWarning: Channels contain different lowpass filters. Lowest filter setting will be stored.\n",
            "  eeg_data = mne.io.read_raw_edf(os.path.join(eeg_dir, file), preload=True)\n"
          ]
        },
        {
          "name": "stdout",
          "output_type": "stream",
          "text": [
            "Extracting EDF parameters from D:\\sleep-edf-database-expanded-1.0.0\\sleep-edf-database-expanded-1.0.0\\sleep-telemetry\\ST7191J0-PSG.edf...\n",
            "EDF file detected\n",
            "Setting channel info structure...\n",
            "Creating raw.info structure...\n",
            "Reading 0 ... 3378999  =      0.000 ... 33789.990 secs...\n"
          ]
        },
        {
          "name": "stderr",
          "output_type": "stream",
          "text": [
            "C:\\Users\\amaur\\AppData\\Local\\Temp\\ipykernel_20924\\4006877734.py:27: RuntimeWarning: Channels contain different highpass filters. Highest filter setting will be stored.\n",
            "  eeg_data = mne.io.read_raw_edf(os.path.join(eeg_dir, file), preload=True)\n",
            "C:\\Users\\amaur\\AppData\\Local\\Temp\\ipykernel_20924\\4006877734.py:27: RuntimeWarning: Channels contain different lowpass filters. Lowest filter setting will be stored.\n",
            "  eeg_data = mne.io.read_raw_edf(os.path.join(eeg_dir, file), preload=True)\n"
          ]
        },
        {
          "name": "stdout",
          "output_type": "stream",
          "text": [
            "Extracting EDF parameters from D:\\sleep-edf-database-expanded-1.0.0\\sleep-edf-database-expanded-1.0.0\\sleep-telemetry\\ST7192J0-PSG.edf...\n",
            "EDF file detected\n",
            "Setting channel info structure...\n",
            "Creating raw.info structure...\n",
            "Reading 0 ... 3289999  =      0.000 ... 32899.990 secs...\n"
          ]
        },
        {
          "name": "stderr",
          "output_type": "stream",
          "text": [
            "C:\\Users\\amaur\\AppData\\Local\\Temp\\ipykernel_20924\\4006877734.py:27: RuntimeWarning: Channels contain different highpass filters. Highest filter setting will be stored.\n",
            "  eeg_data = mne.io.read_raw_edf(os.path.join(eeg_dir, file), preload=True)\n",
            "C:\\Users\\amaur\\AppData\\Local\\Temp\\ipykernel_20924\\4006877734.py:27: RuntimeWarning: Channels contain different lowpass filters. Lowest filter setting will be stored.\n",
            "  eeg_data = mne.io.read_raw_edf(os.path.join(eeg_dir, file), preload=True)\n"
          ]
        },
        {
          "name": "stdout",
          "output_type": "stream",
          "text": [
            "Extracting EDF parameters from D:\\sleep-edf-database-expanded-1.0.0\\sleep-edf-database-expanded-1.0.0\\sleep-telemetry\\ST7201J0-PSG.edf...\n",
            "EDF file detected\n",
            "Setting channel info structure...\n",
            "Creating raw.info structure...\n",
            "Reading 0 ... 2911999  =      0.000 ... 29119.990 secs...\n"
          ]
        },
        {
          "name": "stderr",
          "output_type": "stream",
          "text": [
            "C:\\Users\\amaur\\AppData\\Local\\Temp\\ipykernel_20924\\4006877734.py:27: RuntimeWarning: Channels contain different highpass filters. Highest filter setting will be stored.\n",
            "  eeg_data = mne.io.read_raw_edf(os.path.join(eeg_dir, file), preload=True)\n",
            "C:\\Users\\amaur\\AppData\\Local\\Temp\\ipykernel_20924\\4006877734.py:27: RuntimeWarning: Channels contain different lowpass filters. Lowest filter setting will be stored.\n",
            "  eeg_data = mne.io.read_raw_edf(os.path.join(eeg_dir, file), preload=True)\n"
          ]
        },
        {
          "name": "stdout",
          "output_type": "stream",
          "text": [
            "Extracting EDF parameters from D:\\sleep-edf-database-expanded-1.0.0\\sleep-edf-database-expanded-1.0.0\\sleep-telemetry\\ST7202J0-PSG.edf...\n",
            "EDF file detected\n",
            "Setting channel info structure...\n",
            "Creating raw.info structure...\n",
            "Reading 0 ... 2999999  =      0.000 ... 29999.990 secs...\n"
          ]
        },
        {
          "name": "stderr",
          "output_type": "stream",
          "text": [
            "C:\\Users\\amaur\\AppData\\Local\\Temp\\ipykernel_20924\\4006877734.py:27: RuntimeWarning: Channels contain different highpass filters. Highest filter setting will be stored.\n",
            "  eeg_data = mne.io.read_raw_edf(os.path.join(eeg_dir, file), preload=True)\n",
            "C:\\Users\\amaur\\AppData\\Local\\Temp\\ipykernel_20924\\4006877734.py:27: RuntimeWarning: Channels contain different lowpass filters. Lowest filter setting will be stored.\n",
            "  eeg_data = mne.io.read_raw_edf(os.path.join(eeg_dir, file), preload=True)\n"
          ]
        },
        {
          "name": "stdout",
          "output_type": "stream",
          "text": [
            "Extracting EDF parameters from D:\\sleep-edf-database-expanded-1.0.0\\sleep-edf-database-expanded-1.0.0\\sleep-telemetry\\ST7211J0-PSG.edf...\n",
            "EDF file detected\n",
            "Setting channel info structure...\n",
            "Creating raw.info structure...\n",
            "Reading 0 ... 3236999  =      0.000 ... 32369.990 secs...\n"
          ]
        },
        {
          "name": "stderr",
          "output_type": "stream",
          "text": [
            "C:\\Users\\amaur\\AppData\\Local\\Temp\\ipykernel_20924\\4006877734.py:27: RuntimeWarning: Channels contain different highpass filters. Highest filter setting will be stored.\n",
            "  eeg_data = mne.io.read_raw_edf(os.path.join(eeg_dir, file), preload=True)\n",
            "C:\\Users\\amaur\\AppData\\Local\\Temp\\ipykernel_20924\\4006877734.py:27: RuntimeWarning: Channels contain different lowpass filters. Lowest filter setting will be stored.\n",
            "  eeg_data = mne.io.read_raw_edf(os.path.join(eeg_dir, file), preload=True)\n"
          ]
        },
        {
          "name": "stdout",
          "output_type": "stream",
          "text": [
            "Extracting EDF parameters from D:\\sleep-edf-database-expanded-1.0.0\\sleep-edf-database-expanded-1.0.0\\sleep-telemetry\\ST7212J0-PSG.edf...\n",
            "EDF file detected\n",
            "Setting channel info structure...\n",
            "Creating raw.info structure...\n",
            "Reading 0 ... 3161999  =      0.000 ... 31619.990 secs...\n"
          ]
        },
        {
          "name": "stderr",
          "output_type": "stream",
          "text": [
            "C:\\Users\\amaur\\AppData\\Local\\Temp\\ipykernel_20924\\4006877734.py:27: RuntimeWarning: Channels contain different highpass filters. Highest filter setting will be stored.\n",
            "  eeg_data = mne.io.read_raw_edf(os.path.join(eeg_dir, file), preload=True)\n",
            "C:\\Users\\amaur\\AppData\\Local\\Temp\\ipykernel_20924\\4006877734.py:27: RuntimeWarning: Channels contain different lowpass filters. Lowest filter setting will be stored.\n",
            "  eeg_data = mne.io.read_raw_edf(os.path.join(eeg_dir, file), preload=True)\n"
          ]
        },
        {
          "name": "stdout",
          "output_type": "stream",
          "text": [
            "Extracting EDF parameters from D:\\sleep-edf-database-expanded-1.0.0\\sleep-edf-database-expanded-1.0.0\\sleep-telemetry\\ST7221J0-PSG.edf...\n",
            "EDF file detected\n",
            "Setting channel info structure...\n",
            "Creating raw.info structure...\n",
            "Reading 0 ... 3295999  =      0.000 ... 32959.990 secs...\n"
          ]
        },
        {
          "name": "stderr",
          "output_type": "stream",
          "text": [
            "C:\\Users\\amaur\\AppData\\Local\\Temp\\ipykernel_20924\\4006877734.py:27: RuntimeWarning: Channels contain different highpass filters. Highest filter setting will be stored.\n",
            "  eeg_data = mne.io.read_raw_edf(os.path.join(eeg_dir, file), preload=True)\n",
            "C:\\Users\\amaur\\AppData\\Local\\Temp\\ipykernel_20924\\4006877734.py:27: RuntimeWarning: Channels contain different lowpass filters. Lowest filter setting will be stored.\n",
            "  eeg_data = mne.io.read_raw_edf(os.path.join(eeg_dir, file), preload=True)\n"
          ]
        },
        {
          "name": "stdout",
          "output_type": "stream",
          "text": [
            "Extracting EDF parameters from D:\\sleep-edf-database-expanded-1.0.0\\sleep-edf-database-expanded-1.0.0\\sleep-telemetry\\ST7222J0-PSG.edf...\n",
            "EDF file detected\n",
            "Setting channel info structure...\n",
            "Creating raw.info structure...\n",
            "Reading 0 ... 2873999  =      0.000 ... 28739.990 secs...\n"
          ]
        },
        {
          "name": "stderr",
          "output_type": "stream",
          "text": [
            "C:\\Users\\amaur\\AppData\\Local\\Temp\\ipykernel_20924\\4006877734.py:27: RuntimeWarning: Channels contain different highpass filters. Highest filter setting will be stored.\n",
            "  eeg_data = mne.io.read_raw_edf(os.path.join(eeg_dir, file), preload=True)\n",
            "C:\\Users\\amaur\\AppData\\Local\\Temp\\ipykernel_20924\\4006877734.py:27: RuntimeWarning: Channels contain different lowpass filters. Lowest filter setting will be stored.\n",
            "  eeg_data = mne.io.read_raw_edf(os.path.join(eeg_dir, file), preload=True)\n"
          ]
        },
        {
          "name": "stdout",
          "output_type": "stream",
          "text": [
            "Extracting EDF parameters from D:\\sleep-edf-database-expanded-1.0.0\\sleep-edf-database-expanded-1.0.0\\sleep-telemetry\\ST7241J0-PSG.edf...\n",
            "EDF file detected\n",
            "Setting channel info structure...\n",
            "Creating raw.info structure...\n",
            "Reading 0 ... 3260999  =      0.000 ... 32609.990 secs...\n"
          ]
        },
        {
          "name": "stderr",
          "output_type": "stream",
          "text": [
            "C:\\Users\\amaur\\AppData\\Local\\Temp\\ipykernel_20924\\4006877734.py:27: RuntimeWarning: Channels contain different highpass filters. Highest filter setting will be stored.\n",
            "  eeg_data = mne.io.read_raw_edf(os.path.join(eeg_dir, file), preload=True)\n",
            "C:\\Users\\amaur\\AppData\\Local\\Temp\\ipykernel_20924\\4006877734.py:27: RuntimeWarning: Channels contain different lowpass filters. Lowest filter setting will be stored.\n",
            "  eeg_data = mne.io.read_raw_edf(os.path.join(eeg_dir, file), preload=True)\n"
          ]
        },
        {
          "name": "stdout",
          "output_type": "stream",
          "text": [
            "Extracting EDF parameters from D:\\sleep-edf-database-expanded-1.0.0\\sleep-edf-database-expanded-1.0.0\\sleep-telemetry\\ST7242J0-PSG.edf...\n",
            "EDF file detected\n",
            "Setting channel info structure...\n",
            "Creating raw.info structure...\n",
            "Reading 0 ... 2947999  =      0.000 ... 29479.990 secs...\n"
          ]
        },
        {
          "name": "stderr",
          "output_type": "stream",
          "text": [
            "C:\\Users\\amaur\\AppData\\Local\\Temp\\ipykernel_20924\\4006877734.py:27: RuntimeWarning: Channels contain different highpass filters. Highest filter setting will be stored.\n",
            "  eeg_data = mne.io.read_raw_edf(os.path.join(eeg_dir, file), preload=True)\n",
            "C:\\Users\\amaur\\AppData\\Local\\Temp\\ipykernel_20924\\4006877734.py:27: RuntimeWarning: Channels contain different lowpass filters. Lowest filter setting will be stored.\n",
            "  eeg_data = mne.io.read_raw_edf(os.path.join(eeg_dir, file), preload=True)\n"
          ]
        },
        {
          "name": "stdout",
          "output_type": "stream",
          "text": [
            "Filtering raw data in 1 contiguous segment\n",
            "Setting up band-pass filter from 0.3 - 40 Hz\n",
            "\n",
            "FIR filter parameters\n",
            "---------------------\n",
            "Designing a one-pass, zero-phase, non-causal bandpass filter:\n",
            "- Windowed time-domain design (firwin) method\n",
            "- Hamming window with 0.0194 passband ripple and 53 dB stopband attenuation\n",
            "- Lower passband edge: 0.30\n",
            "- Lower transition bandwidth: 0.30 Hz (-6 dB cutoff frequency: 0.15 Hz)\n",
            "- Upper passband edge: 40.00 Hz\n",
            "- Upper transition bandwidth: 10.00 Hz (-6 dB cutoff frequency: 45.00 Hz)\n",
            "- Filter length: 1101 samples (11.010 s)\n",
            "\n",
            "Fitting ICA to data using 2 channels (please be patient, this may take a while)\n",
            "Selecting by number: 2 components\n",
            "Fitting ICA took 0.5s.\n",
            "Applying ICA to Raw instance\n",
            "    Transforming to ICA space (2 components)\n",
            "    Zeroing out 1 ICA component\n",
            "    Projecting back using 2 PCA components\n"
          ]
        },
        {
          "name": "stderr",
          "output_type": "stream",
          "text": [
            "C:\\Users\\amaur\\AppData\\Local\\Packages\\PythonSoftwareFoundation.Python.3.12_qbz5n2kfra8p0\\LocalCache\\local-packages\\Python312\\site-packages\\numpy\\ma\\core.py:2846: RuntimeWarning: invalid value encountered in cast\n",
            "  _data = np.array(data, dtype=dtype, copy=copy,\n"
          ]
        },
        {
          "name": "stdout",
          "output_type": "stream",
          "text": [
            "Best parameters: {'max_depth': 10, 'max_features': 'log2', 'min_samples_leaf': 1, 'min_samples_split': 2, 'n_estimators': 300}\n",
            "Random Forest Classification Report:\n",
            "               precision    recall  f1-score   support\n",
            "\n",
            "       Awake       1.00      1.00      1.00         9\n",
            "  Deep Sleep       0.57      0.50      0.53         8\n",
            "Deeper Sleep       0.60      0.67      0.63         9\n",
            " Light Sleep       1.00      1.00      1.00         9\n",
            "         REM       1.00      1.00      1.00         9\n",
            "\n",
            "    accuracy                           0.84        44\n",
            "   macro avg       0.83      0.83      0.83        44\n",
            "weighted avg       0.84      0.84      0.84        44\n",
            "\n",
            "Random Forest Confusion Matrix:\n",
            " [[9 0 0 0 0]\n",
            " [0 4 4 0 0]\n",
            " [0 3 6 0 0]\n",
            " [0 0 0 9 0]\n",
            " [0 0 0 0 9]]\n"
          ]
        },
        {
          "data": {
            "image/png": "[encoded data removed]",
            "text/plain": [
              "<Figure size 800x600 with 2 Axes>"
            ]
          },
          "metadata": {},
          "output_type": "display_data"
        }
      ],
      "execution_count": 10
    },
    {
      "id": "c915eb16-fd1f-4d93-a696-b0870feef9b0",
      "cell_type": "code",
      "source": "",
      "metadata": {},
      "outputs": [],
      "execution_count": null
    }
  ]
}